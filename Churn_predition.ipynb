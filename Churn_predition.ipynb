{
 "cells": [
  {
   "cell_type": "markdown",
   "metadata": {
    "id": "skywquzIEoAY"
   },
   "source": [
    "# <span style=\"color:#4040a1; font-family: Trebuchet MS; font-size: 60px; font-weight: bold;\">SPARK MLlib</span>"
   ]
  },
  {
   "cell_type": "code",
   "execution_count": 74,
   "metadata": {
    "colab": {
     "base_uri": "https://localhost:8080/"
    },
    "id": "VaX_GL4cFTyQ",
    "outputId": "220fbf44-154d-4741-eb0d-988f7d0a4882"
   },
   "outputs": [
    {
     "name": "stdout",
     "output_type": "stream",
     "text": [
      "Requirement already satisfied: pyspark in /usr/local/lib/python3.10/dist-packages (3.4.1)\n",
      "Requirement already satisfied: py4j==0.10.9.7 in /usr/local/lib/python3.10/dist-packages (from pyspark) (0.10.9.7)\n"
     ]
    }
   ],
   "source": [
    "# Import necessary libraries\n",
    "!pip install pyspark\n",
    "# Import necessary libraries\n",
    "from pyspark.sql import SparkSession\n",
    "\n",
    "# Import specific data types from Spark SQL types\n",
    "from pyspark.sql.types import IntegerType, DoubleType, StringType\n",
    "\n",
    "# Import LogisticRegression and RandomForest classifier\n",
    "from pyspark.ml.classification import LogisticRegression\n",
    "from pyspark.ml.classification import RandomForestClassifier\n",
    "\n",
    "# Import evaluators for binary and multiclass classification\n",
    "from pyspark.ml.evaluation import BinaryClassificationEvaluator, MulticlassClassificationEvaluator\n",
    "\n",
    "# Import StringIndexer, OneHotEncoder, and VectorAssembler for feature engineering\n",
    "from pyspark.ml.feature import StringIndexer, OneHotEncoder, VectorAssembler\n",
    "\n",
    "# Import Pipeline for building a machine learning pipeline\n",
    "from pyspark.ml import Pipeline"
   ]
  },
  {
   "cell_type": "code",
   "execution_count": 4,
   "metadata": {
    "id": "n01WDYGQGOeW"
   },
   "outputs": [],
   "source": [
    "# Initialize Spark session\n",
    "spark = SparkSession.builder.appName(\"ChurnPrediction\").getOrCreate()"
   ]
  },
  {
   "cell_type": "markdown",
   "metadata": {},
   "source": [
    "# <span style=\"color:#4040a1; font-family: Trebuchet MS; font-size: 50px; font-weight: bold;\">Data Understanding</span>"
   ]
  },
  {
   "cell_type": "code",
   "execution_count": 5,
   "metadata": {
    "id": "lD652zrAEnoX"
   },
   "outputs": [],
   "source": [
    "# Load the dataset into a DataFrame\n",
    "data_path = '/content/churn.csv'\n",
    "df = spark.read.csv(data_path, header = True, inferSchema = True)"
   ]
  },
  {
   "cell_type": "code",
   "execution_count": 13,
   "metadata": {
    "colab": {
     "base_uri": "https://localhost:8080/"
    },
    "id": "cEdFRdDZGWpH",
    "outputId": "ab6348ad-2413-4044-c8a5-6a92bd9a017b"
   },
   "outputs": [
    {
     "name": "stdout",
     "output_type": "stream",
     "text": [
      "+---------+----------+---------+-----------+---------+------+---+------+---------+-------------+---------+--------------+---------------+------+\n",
      "|RowNumber|CustomerId|  Surname|CreditScore|Geography|Gender|Age|Tenure|  Balance|NumOfProducts|HasCrCard|IsActiveMember|EstimatedSalary|Exited|\n",
      "+---------+----------+---------+-----------+---------+------+---+------+---------+-------------+---------+--------------+---------------+------+\n",
      "|        1|  15634602| Hargrave|        619|   France|Female| 42|     2|      0.0|            1|        1|             1|      101348.88|     1|\n",
      "|        2|  15647311|     Hill|        608|    Spain|Female| 41|     1| 83807.86|            1|        0|             1|      112542.58|     0|\n",
      "|        3|  15619304|     Onio|        502|   France|Female| 42|     8| 159660.8|            3|        1|             0|      113931.57|     1|\n",
      "|        4|  15701354|     Boni|        699|   France|Female| 39|     1|      0.0|            2|        0|             0|       93826.63|     0|\n",
      "|        5|  15737888| Mitchell|        850|    Spain|Female| 43|     2|125510.82|            1|        1|             1|        79084.1|     0|\n",
      "|        6|  15574012|      Chu|        645|    Spain|  Male| 44|     8|113755.78|            2|        1|             0|      149756.71|     1|\n",
      "|        7|  15592531| Bartlett|        822|   France|  Male| 50|     7|      0.0|            2|        1|             1|        10062.8|     0|\n",
      "|        8|  15656148|   Obinna|        376|  Germany|Female| 29|     4|115046.74|            4|        1|             0|      119346.88|     1|\n",
      "|        9|  15792365|       He|        501|   France|  Male| 44|     4|142051.07|            2|        0|             1|        74940.5|     0|\n",
      "|       10|  15592389|       H?|        684|   France|  Male| 27|     2|134603.88|            1|        1|             1|       71725.73|     0|\n",
      "|       11|  15767821|   Bearce|        528|   France|  Male| 31|     6|102016.72|            2|        0|             0|       80181.12|     0|\n",
      "|       12|  15737173|  Andrews|        497|    Spain|  Male| 24|     3|      0.0|            2|        1|             0|       76390.01|     0|\n",
      "|       13|  15632264|      Kay|        476|   France|Female| 34|    10|      0.0|            2|        1|             0|       26260.98|     0|\n",
      "|       14|  15691483|     Chin|        549|   France|Female| 25|     5|      0.0|            2|        0|             0|      190857.79|     0|\n",
      "|       15|  15600882|    Scott|        635|    Spain|Female| 35|     7|      0.0|            2|        1|             1|       65951.65|     0|\n",
      "|       16|  15643966|  Goforth|        616|  Germany|  Male| 45|     3|143129.41|            2|        0|             1|       64327.26|     0|\n",
      "|       17|  15737452|    Romeo|        653|  Germany|  Male| 58|     1|132602.88|            1|        1|             0|        5097.67|     1|\n",
      "|       18|  15788218|Henderson|        549|    Spain|Female| 24|     9|      0.0|            2|        1|             1|       14406.41|     0|\n",
      "|       19|  15661507|  Muldrow|        587|    Spain|  Male| 45|     6|      0.0|            1|        0|             0|      158684.81|     0|\n",
      "|       20|  15568982|      Hao|        726|   France|Female| 24|     6|      0.0|            2|        1|             1|       54724.03|     0|\n",
      "+---------+----------+---------+-----------+---------+------+---+------+---------+-------------+---------+--------------+---------------+------+\n",
      "only showing top 20 rows\n",
      "\n"
     ]
    }
   ],
   "source": [
    "# Show the first few rows of the DataFrame\n",
    "df.show()"
   ]
  },
  {
   "cell_type": "code",
   "execution_count": 14,
   "metadata": {
    "colab": {
     "base_uri": "https://localhost:8080/"
    },
    "id": "ihh3tOLnH5Ng",
    "outputId": "bd8d0944-ae2c-4be1-bb4a-bbde2cc3a90f"
   },
   "outputs": [
    {
     "name": "stdout",
     "output_type": "stream",
     "text": [
      "root\n",
      " |-- RowNumber: integer (nullable = true)\n",
      " |-- CustomerId: integer (nullable = true)\n",
      " |-- Surname: string (nullable = true)\n",
      " |-- CreditScore: integer (nullable = true)\n",
      " |-- Geography: string (nullable = true)\n",
      " |-- Gender: string (nullable = true)\n",
      " |-- Age: integer (nullable = true)\n",
      " |-- Tenure: integer (nullable = true)\n",
      " |-- Balance: double (nullable = true)\n",
      " |-- NumOfProducts: integer (nullable = true)\n",
      " |-- HasCrCard: integer (nullable = true)\n",
      " |-- IsActiveMember: integer (nullable = true)\n",
      " |-- EstimatedSalary: double (nullable = true)\n",
      " |-- Exited: integer (nullable = true)\n",
      "\n"
     ]
    }
   ],
   "source": [
    "# Print the schema of the DataFrame\n",
    "df.printSchema()"
   ]
  },
  {
   "cell_type": "code",
   "execution_count": 17,
   "metadata": {
    "colab": {
     "base_uri": "https://localhost:8080/"
    },
    "id": "RfiqFrGeIedd",
    "outputId": "f4c4f7cc-ffa7-446e-a457-c15e48a99369"
   },
   "outputs": [
    {
     "name": "stdout",
     "output_type": "stream",
     "text": [
      "+------+\n",
      "|Exited|\n",
      "+------+\n",
      "|     1|\n",
      "|     0|\n",
      "+------+\n",
      "\n"
     ]
    }
   ],
   "source": [
    "#Showing the distinct values of the label\n",
    "df.select('Exited').distinct().show()"
   ]
  },
  {
   "cell_type": "code",
   "execution_count": 18,
   "metadata": {
    "colab": {
     "base_uri": "https://localhost:8080/"
    },
    "id": "N7A2XVHDKCW4",
    "outputId": "3261b195-ae9f-4896-9661-c51be21b1e6a"
   },
   "outputs": [
    {
     "name": "stdout",
     "output_type": "stream",
     "text": [
      "+------+-----+\n",
      "|Exited|count|\n",
      "+------+-----+\n",
      "|     1| 2037|\n",
      "|     0| 7963|\n",
      "+------+-----+\n",
      "\n"
     ]
    }
   ],
   "source": [
    "# Showing the value counts for the label\n",
    "# We have imbalance problem\n",
    "df.groupby('Exited').count().show()"
   ]
  },
  {
   "cell_type": "markdown",
   "metadata": {},
   "source": [
    "# <span style=\"color:#4040a1; font-family: Trebuchet MS; font-size: 50px; font-weight: bold;\">Data Preparation</span>"
   ]
  },
  {
   "cell_type": "code",
   "execution_count": 19,
   "metadata": {
    "id": "ifcTifVAKLgi"
   },
   "outputs": [],
   "source": [
    "# Drop unnecesarry columns\n",
    "df = df.drop('RowNumber')\n",
    "df = df.drop('CustomerID')\n",
    "df = df.drop('Surname')"
   ]
  },
  {
   "cell_type": "code",
   "execution_count": 20,
   "metadata": {
    "colab": {
     "base_uri": "https://localhost:8080/"
    },
    "id": "wFtAb9ljKiFq",
    "outputId": "c42ac2a2-13ea-4be1-e11c-937ad12f8e9e"
   },
   "outputs": [
    {
     "name": "stdout",
     "output_type": "stream",
     "text": [
      "root\n",
      " |-- CreditScore: integer (nullable = true)\n",
      " |-- Geography: string (nullable = true)\n",
      " |-- Gender: string (nullable = true)\n",
      " |-- Age: integer (nullable = true)\n",
      " |-- Tenure: integer (nullable = true)\n",
      " |-- Balance: double (nullable = true)\n",
      " |-- NumOfProducts: integer (nullable = true)\n",
      " |-- HasCrCard: integer (nullable = true)\n",
      " |-- IsActiveMember: integer (nullable = true)\n",
      " |-- EstimatedSalary: double (nullable = true)\n",
      " |-- Exited: integer (nullable = true)\n",
      "\n"
     ]
    }
   ],
   "source": [
    "df.printSchema()"
   ]
  },
  {
   "cell_type": "code",
   "execution_count": 21,
   "metadata": {
    "colab": {
     "base_uri": "https://localhost:8080/"
    },
    "id": "Y0GwM-uZKlcn",
    "outputId": "900ec838-b920-4645-8981-66c0be41d25e"
   },
   "outputs": [
    {
     "data": {
      "text/plain": [
       "[StructField('CreditScore', IntegerType(), True),\n",
       " StructField('Geography', StringType(), True),\n",
       " StructField('Gender', StringType(), True),\n",
       " StructField('Age', IntegerType(), True),\n",
       " StructField('Tenure', IntegerType(), True),\n",
       " StructField('Balance', DoubleType(), True),\n",
       " StructField('NumOfProducts', IntegerType(), True),\n",
       " StructField('HasCrCard', IntegerType(), True),\n",
       " StructField('IsActiveMember', IntegerType(), True),\n",
       " StructField('EstimatedSalary', DoubleType(), True),\n",
       " StructField('Exited', IntegerType(), True)]"
      ]
     },
     "execution_count": 21,
     "metadata": {},
     "output_type": "execute_result"
    }
   ],
   "source": [
    "# Get the schema fields of the DataFrame\n",
    "df.schema.fields"
   ]
  },
  {
   "cell_type": "code",
   "execution_count": 24,
   "metadata": {
    "colab": {
     "base_uri": "https://localhost:8080/"
    },
    "id": "qXwGLibCK6qh",
    "outputId": "e6e924f4-26cb-4749-bf21-ad749ec97ec3"
   },
   "outputs": [
    {
     "data": {
      "text/plain": [
       "['CreditScore',\n",
       " 'Age',\n",
       " 'Tenure',\n",
       " 'Balance',\n",
       " 'NumOfProducts',\n",
       " 'HasCrCard',\n",
       " 'IsActiveMember',\n",
       " 'EstimatedSalary']"
      ]
     },
     "execution_count": 24,
     "metadata": {},
     "output_type": "execute_result"
    }
   ],
   "source": [
    "# Define numerical columns\n",
    "numcols = [field.name for field in df.schema.fields if (isinstance(field.dataType, IntegerType)\n",
    "or isinstance(field.dataType, DoubleType)) and field.name!='Exited']\n",
    "\n",
    "numcols"
   ]
  },
  {
   "cell_type": "code",
   "execution_count": 25,
   "metadata": {
    "colab": {
     "base_uri": "https://localhost:8080/"
    },
    "id": "Bz9OITQTMInS",
    "outputId": "2e746d5d-ec65-4f70-a0b6-f061b0234f80"
   },
   "outputs": [
    {
     "data": {
      "text/plain": [
       "['Geography', 'Gender']"
      ]
     },
     "execution_count": 25,
     "metadata": {},
     "output_type": "execute_result"
    }
   ],
   "source": [
    "# Define categorical columns\n",
    "catcols = [field.name for field in df.schema.fields if isinstance(field.dataType, StringType)]\n",
    "\n",
    "catcols"
   ]
  },
  {
   "cell_type": "code",
   "execution_count": 33,
   "metadata": {
    "id": "AuNWPjgQMcTc"
   },
   "outputs": [],
   "source": [
    "# Create a list of StringIndexer (transformation that converts categorical values into numerical) stages for categorical cols\n",
    "stringindexer_stages = [StringIndexer(inputCol = c, outputCol = 'strindexed_' + c) for c in catcols]"
   ]
  },
  {
   "cell_type": "code",
   "execution_count": 34,
   "metadata": {
    "id": "xhFi0f0BM8mf"
   },
   "outputs": [],
   "source": [
    "# Add a StringIndexer stage for the target column 'Exited'\n",
    "stringindexer_stages = stringindexer_stages + [StringIndexer(inputCol = 'Exited', outputCol = 'label')]"
   ]
  },
  {
   "cell_type": "code",
   "execution_count": 35,
   "metadata": {
    "id": "5qiz7eJbOY-n"
   },
   "outputs": [],
   "source": [
    "# Create a list of OneHotEncoder stages for the string indexed categorical columns\n",
    "onehotencoder_stages = [OneHotEncoder(inputCol = 'strindexed_' + c, outputCol = 'onehot_' + c) for c in catcols]"
   ]
  },
  {
   "cell_type": "code",
   "execution_count": 36,
   "metadata": {
    "id": "o-Wu-iUvPKZP"
   },
   "outputs": [],
   "source": [
    "# Define feature columns that include numerical and one-hot encoded categorical columns\n",
    "feature_columns = numcols + ['onehot_' + c for c in catcols]"
   ]
  },
  {
   "cell_type": "code",
   "execution_count": 37,
   "metadata": {
    "id": "XSNGGunSQ9nI"
   },
   "outputs": [],
   "source": [
    "# Create a VectorAssembler stage to combine features into a single vector column\n",
    "vectorassembler_stage = VectorAssembler(inputCols = feature_columns, outputCol = 'features')"
   ]
  },
  {
   "cell_type": "code",
   "execution_count": 38,
   "metadata": {
    "id": "j48gJzuGRzZq"
   },
   "outputs": [],
   "source": [
    "# Combine all preprocessing stages into a single list\n",
    "all_stages = stringindexer_stages + onehotencoder_stages + [vectorassembler_stage]"
   ]
  },
  {
   "cell_type": "markdown",
   "metadata": {},
   "source": [
    "# <span style=\"color:#4040a1; font-family: Trebuchet MS; font-size: 40px; font-weight: bold;\">Create a Pipeline</span>"
   ]
  },
  {
   "cell_type": "code",
   "execution_count": 39,
   "metadata": {
    "id": "R_3TVTBwSSCS"
   },
   "outputs": [],
   "source": [
    "# Create the pipeline using all preprocessing stages\n",
    "pipeline = Pipeline(stages = all_stages)"
   ]
  },
  {
   "cell_type": "code",
   "execution_count": 40,
   "metadata": {
    "id": "katFzVKZSfVW"
   },
   "outputs": [],
   "source": [
    "# Fit the entire pipeline to the dataset\n",
    "pipeline_model = pipeline.fit(df)"
   ]
  },
  {
   "cell_type": "code",
   "execution_count": 42,
   "metadata": {
    "id": "VlaUPYbcS0wp"
   },
   "outputs": [],
   "source": [
    "# Define final columns for the DataFrame\n",
    "final_columns = feature_columns + ['features', 'label']"
   ]
  },
  {
   "cell_type": "code",
   "execution_count": 43,
   "metadata": {
    "id": "iOSFNHW3TC3w"
   },
   "outputs": [],
   "source": [
    "# Apply the trained pipeline to the DataFrame and select final columns\n",
    "churn_df = pipeline_model.transform(df).select(final_columns)"
   ]
  },
  {
   "cell_type": "code",
   "execution_count": 44,
   "metadata": {
    "colab": {
     "base_uri": "https://localhost:8080/"
    },
    "id": "PevC1R2oTpHZ",
    "outputId": "27d1b115-4b67-465d-a55f-63dc4761238a"
   },
   "outputs": [
    {
     "name": "stdout",
     "output_type": "stream",
     "text": [
      "+-----------+---+------+---------+-------------+---------+--------------+---------------+----------------+-------------+--------------------+-----+\n",
      "|CreditScore|Age|Tenure|  Balance|NumOfProducts|HasCrCard|IsActiveMember|EstimatedSalary|onehot_Geography|onehot_Gender|            features|label|\n",
      "+-----------+---+------+---------+-------------+---------+--------------+---------------+----------------+-------------+--------------------+-----+\n",
      "|        619| 42|     2|      0.0|            1|        1|             1|      101348.88|   (2,[0],[1.0])|    (1,[],[])|[619.0,42.0,2.0,0...|  1.0|\n",
      "|        608| 41|     1| 83807.86|            1|        0|             1|      112542.58|       (2,[],[])|    (1,[],[])|[608.0,41.0,1.0,8...|  0.0|\n",
      "|        502| 42|     8| 159660.8|            3|        1|             0|      113931.57|   (2,[0],[1.0])|    (1,[],[])|[502.0,42.0,8.0,1...|  1.0|\n",
      "|        699| 39|     1|      0.0|            2|        0|             0|       93826.63|   (2,[0],[1.0])|    (1,[],[])|(11,[0,1,2,4,7,8]...|  0.0|\n",
      "|        850| 43|     2|125510.82|            1|        1|             1|        79084.1|       (2,[],[])|    (1,[],[])|[850.0,43.0,2.0,1...|  0.0|\n",
      "|        645| 44|     8|113755.78|            2|        1|             0|      149756.71|       (2,[],[])|(1,[0],[1.0])|[645.0,44.0,8.0,1...|  1.0|\n",
      "|        822| 50|     7|      0.0|            2|        1|             1|        10062.8|   (2,[0],[1.0])|(1,[0],[1.0])|[822.0,50.0,7.0,0...|  0.0|\n",
      "|        376| 29|     4|115046.74|            4|        1|             0|      119346.88|   (2,[1],[1.0])|    (1,[],[])|[376.0,29.0,4.0,1...|  1.0|\n",
      "|        501| 44|     4|142051.07|            2|        0|             1|        74940.5|   (2,[0],[1.0])|(1,[0],[1.0])|[501.0,44.0,4.0,1...|  0.0|\n",
      "|        684| 27|     2|134603.88|            1|        1|             1|       71725.73|   (2,[0],[1.0])|(1,[0],[1.0])|[684.0,27.0,2.0,1...|  0.0|\n",
      "|        528| 31|     6|102016.72|            2|        0|             0|       80181.12|   (2,[0],[1.0])|(1,[0],[1.0])|[528.0,31.0,6.0,1...|  0.0|\n",
      "|        497| 24|     3|      0.0|            2|        1|             0|       76390.01|       (2,[],[])|(1,[0],[1.0])|[497.0,24.0,3.0,0...|  0.0|\n",
      "|        476| 34|    10|      0.0|            2|        1|             0|       26260.98|   (2,[0],[1.0])|    (1,[],[])|[476.0,34.0,10.0,...|  0.0|\n",
      "|        549| 25|     5|      0.0|            2|        0|             0|      190857.79|   (2,[0],[1.0])|    (1,[],[])|(11,[0,1,2,4,7,8]...|  0.0|\n",
      "|        635| 35|     7|      0.0|            2|        1|             1|       65951.65|       (2,[],[])|    (1,[],[])|[635.0,35.0,7.0,0...|  0.0|\n",
      "|        616| 45|     3|143129.41|            2|        0|             1|       64327.26|   (2,[1],[1.0])|(1,[0],[1.0])|[616.0,45.0,3.0,1...|  0.0|\n",
      "|        653| 58|     1|132602.88|            1|        1|             0|        5097.67|   (2,[1],[1.0])|(1,[0],[1.0])|[653.0,58.0,1.0,1...|  1.0|\n",
      "|        549| 24|     9|      0.0|            2|        1|             1|       14406.41|       (2,[],[])|    (1,[],[])|[549.0,24.0,9.0,0...|  0.0|\n",
      "|        587| 45|     6|      0.0|            1|        0|             0|      158684.81|       (2,[],[])|(1,[0],[1.0])|(11,[0,1,2,4,7,10...|  0.0|\n",
      "|        726| 24|     6|      0.0|            2|        1|             1|       54724.03|   (2,[0],[1.0])|    (1,[],[])|[726.0,24.0,6.0,0...|  0.0|\n",
      "+-----------+---+------+---------+-------------+---------+--------------+---------------+----------------+-------------+--------------------+-----+\n",
      "only showing top 20 rows\n",
      "\n"
     ]
    }
   ],
   "source": [
    "# Show the contents of the churn_df DataFrame\n",
    "churn_df.show()"
   ]
  },
  {
   "cell_type": "markdown",
   "metadata": {},
   "source": [
    "# <span style=\"color:#4040a1; font-family: Trebuchet MS; font-size: 50px; font-weight: bold;\">Train/Test split</span>"
   ]
  },
  {
   "cell_type": "code",
   "execution_count": 45,
   "metadata": {
    "id": "WyYvL48qTyjP"
   },
   "outputs": [],
   "source": [
    "# Split the churn_df DataFrame into training and testing sets\n",
    "train, test = churn_df.randomSplit([0.8,0.2], seed=123)"
   ]
  },
  {
   "cell_type": "code",
   "execution_count": 46,
   "metadata": {
    "colab": {
     "base_uri": "https://localhost:8080/"
    },
    "id": "xhYO7NuaV2ra",
    "outputId": "fdb0ab46-4371-41dc-dbcd-0a0d04b8a279"
   },
   "outputs": [
    {
     "name": "stdout",
     "output_type": "stream",
     "text": [
      "+-----------+---+------+---------+-------------+---------+--------------+---------------+----------------+-------------+--------------------+-----+\n",
      "|CreditScore|Age|Tenure|  Balance|NumOfProducts|HasCrCard|IsActiveMember|EstimatedSalary|onehot_Geography|onehot_Gender|            features|label|\n",
      "+-----------+---+------+---------+-------------+---------+--------------+---------------+----------------+-------------+--------------------+-----+\n",
      "|        350| 51|    10|      0.0|            1|        1|             1|      125823.79|   (2,[0],[1.0])|(1,[0],[1.0])|[350.0,51.0,10.0,...|  1.0|\n",
      "|        358| 52|     8|143542.36|            3|        1|             0|      141959.11|       (2,[],[])|    (1,[],[])|[358.0,52.0,8.0,1...|  1.0|\n",
      "|        376| 29|     4|115046.74|            4|        1|             0|      119346.88|   (2,[1],[1.0])|    (1,[],[])|[376.0,29.0,4.0,1...|  1.0|\n",
      "|        376| 46|     6|      0.0|            1|        1|             0|      157333.69|   (2,[0],[1.0])|    (1,[],[])|[376.0,46.0,6.0,0...|  1.0|\n",
      "|        399| 46|     2|127655.22|            1|        1|             0|      139994.68|   (2,[1],[1.0])|(1,[0],[1.0])|[399.0,46.0,2.0,1...|  1.0|\n",
      "|        407| 37|     1|      0.0|            1|        1|             1|       49161.12|       (2,[],[])|(1,[0],[1.0])|[407.0,37.0,1.0,0...|  1.0|\n",
      "|        411| 29|     0| 59697.17|            2|        1|             1|       53483.21|   (2,[0],[1.0])|(1,[0],[1.0])|[411.0,29.0,0.0,5...|  0.0|\n",
      "|        411| 35|     2|      0.0|            2|        1|             1|       93825.78|   (2,[0],[1.0])|    (1,[],[])|[411.0,35.0,2.0,0...|  0.0|\n",
      "|        412| 29|     5|      0.0|            2|        0|             0|       12510.53|   (2,[0],[1.0])|(1,[0],[1.0])|[412.0,29.0,5.0,0...|  0.0|\n",
      "|        413| 34|     9|      0.0|            2|        0|             0|        6534.18|   (2,[0],[1.0])|(1,[0],[1.0])|[413.0,34.0,9.0,0...|  0.0|\n",
      "|        413| 35|     2|      0.0|            2|        1|             1|       60972.84|       (2,[],[])|(1,[0],[1.0])|[413.0,35.0,2.0,0...|  0.0|\n",
      "|        414| 60|     3|      0.0|            2|        1|             1|       93844.82|       (2,[],[])|(1,[0],[1.0])|[414.0,60.0,3.0,0...|  0.0|\n",
      "|        415| 46|     9|134950.19|            3|        0|             0|      178587.36|   (2,[0],[1.0])|(1,[0],[1.0])|[415.0,46.0,9.0,1...|  1.0|\n",
      "|        418| 28|     7| 98738.92|            1|        1|             0|      122190.22|   (2,[0],[1.0])|(1,[0],[1.0])|[418.0,28.0,7.0,9...|  0.0|\n",
      "|        420| 34|     1| 135549.9|            1|        0|             0|      149471.13|   (2,[1],[1.0])|    (1,[],[])|[420.0,34.0,1.0,1...|  1.0|\n",
      "|        422| 41|     6|153238.88|            1|        1|             0|       11663.09|   (2,[0],[1.0])|(1,[0],[1.0])|[422.0,41.0,6.0,1...|  0.0|\n",
      "|        427| 42|     1| 75681.52|            1|        1|             1|        57098.0|   (2,[1],[1.0])|(1,[0],[1.0])|[427.0,42.0,1.0,7...|  0.0|\n",
      "|        428| 62|     1|107735.93|            1|        0|             1|       58381.77|   (2,[0],[1.0])|    (1,[],[])|[428.0,62.0,1.0,1...|  0.0|\n",
      "|        430| 31|     5|      0.0|            1|        1|             0|       95655.16|   (2,[0],[1.0])|(1,[0],[1.0])|[430.0,31.0,5.0,0...|  0.0|\n",
      "|        431| 42|     8|120822.86|            2|        1|             0|      126153.24|   (2,[1],[1.0])|(1,[0],[1.0])|[431.0,42.0,8.0,1...|  0.0|\n",
      "+-----------+---+------+---------+-------------+---------+--------------+---------------+----------------+-------------+--------------------+-----+\n",
      "only showing top 20 rows\n",
      "\n"
     ]
    }
   ],
   "source": [
    "# Show the contents of the test DataFrame\n",
    "test.show()"
   ]
  },
  {
   "cell_type": "markdown",
   "metadata": {},
   "source": [
    "# <span style=\"color:#4040a1; font-family: Trebuchet MS; font-size: 50px; font-weight: bold;\">Modeling (Logistic Regression)</span>"
   ]
  },
  {
   "cell_type": "code",
   "execution_count": 47,
   "metadata": {
    "colab": {
     "base_uri": "https://localhost:8080/"
    },
    "id": "WVw1zRWlWBTi",
    "outputId": "c1c3cf5d-9215-442b-ae10-c3d9f459b844"
   },
   "outputs": [
    {
     "name": "stdout",
     "output_type": "stream",
     "text": [
      "+-----------+---+------+---------+-------------+---------+--------------+---------------+----------------+-------------+--------------------+-----+--------------------+--------------------+----------+\n",
      "|CreditScore|Age|Tenure|  Balance|NumOfProducts|HasCrCard|IsActiveMember|EstimatedSalary|onehot_Geography|onehot_Gender|            features|label|       rawPrediction|         probability|prediction|\n",
      "+-----------+---+------+---------+-------------+---------+--------------+---------------+----------------+-------------+--------------------+-----+--------------------+--------------------+----------+\n",
      "|        350| 51|    10|      0.0|            1|        1|             1|      125823.79|   (2,[0],[1.0])|(1,[0],[1.0])|[350.0,51.0,10.0,...|  1.0|[1.85105108171071...|[0.86425046479635...|       0.0|\n",
      "|        358| 52|     8|143542.36|            3|        1|             0|      141959.11|       (2,[],[])|    (1,[],[])|[358.0,52.0,8.0,1...|  1.0|[-0.1145041111844...|[0.47140520802828...|       1.0|\n",
      "|        376| 29|     4|115046.74|            4|        1|             0|      119346.88|   (2,[1],[1.0])|    (1,[],[])|[376.0,29.0,4.0,1...|  1.0|[0.89747423804748...|[0.71043018134492...|       0.0|\n",
      "|        376| 46|     6|      0.0|            1|        1|             0|      157333.69|   (2,[0],[1.0])|    (1,[],[])|[376.0,46.0,6.0,0...|  1.0|[0.52526464754006...|[0.62837799064786...|       0.0|\n",
      "|        399| 46|     2|127655.22|            1|        1|             0|      139994.68|   (2,[1],[1.0])|(1,[0],[1.0])|[399.0,46.0,2.0,1...|  1.0|[-0.1040235329229...|[0.47401754199991...|       1.0|\n",
      "|        407| 37|     1|      0.0|            1|        1|             1|       49161.12|       (2,[],[])|(1,[0],[1.0])|[407.0,37.0,1.0,0...|  1.0|[2.75549506558964...|[0.94022294132369...|       0.0|\n",
      "|        411| 29|     0| 59697.17|            2|        1|             1|       53483.21|   (2,[0],[1.0])|(1,[0],[1.0])|[411.0,29.0,0.0,5...|  0.0|[3.29217379637102...|[0.96415934788151...|       0.0|\n",
      "|        411| 35|     2|      0.0|            2|        1|             1|       93825.78|   (2,[0],[1.0])|    (1,[],[])|[411.0,35.0,2.0,0...|  0.0|[2.49711568537206...|[0.92393937127667...|       0.0|\n",
      "|        412| 29|     5|      0.0|            2|        0|             0|       12510.53|   (2,[0],[1.0])|(1,[0],[1.0])|[412.0,29.0,5.0,0...|  0.0|[2.40485487755237...|[0.91719676380687...|       0.0|\n",
      "|        413| 34|     9|      0.0|            2|        0|             0|        6534.18|   (2,[0],[1.0])|(1,[0],[1.0])|[413.0,34.0,9.0,0...|  0.0|[2.10556848684777...|[0.89144322929517...|       0.0|\n",
      "|        413| 35|     2|      0.0|            2|        1|             1|       60972.84|       (2,[],[])|(1,[0],[1.0])|[413.0,35.0,2.0,0...|  0.0|[2.98914567786890...|[0.95208134892808...|       0.0|\n",
      "|        414| 60|     3|      0.0|            2|        1|             1|       93844.82|       (2,[],[])|(1,[0],[1.0])|[414.0,60.0,3.0,0...|  0.0|[1.20347530733909...|[0.76914244432763...|       0.0|\n",
      "|        415| 46|     9|134950.19|            3|        0|             0|      178587.36|   (2,[0],[1.0])|(1,[0],[1.0])|[415.0,46.0,9.0,1...|  1.0|[0.88853497796954...|[0.70858775095184...|       0.0|\n",
      "|        418| 28|     7| 98738.92|            1|        1|             0|      122190.22|   (2,[0],[1.0])|(1,[0],[1.0])|[418.0,28.0,7.0,9...|  0.0|[2.13024781815810...|[0.89380853224128...|       0.0|\n",
      "|        420| 34|     1| 135549.9|            1|        0|             0|      149471.13|   (2,[1],[1.0])|    (1,[],[])|[420.0,34.0,1.0,1...|  1.0|[0.17566438767340...|[0.54380351415382...|       0.0|\n",
      "|        422| 41|     6|153238.88|            1|        1|             0|       11663.09|   (2,[0],[1.0])|(1,[0],[1.0])|[422.0,41.0,6.0,1...|  0.0|[1.12823033624908...|[0.75551216607550...|       0.0|\n",
      "|        427| 42|     1| 75681.52|            1|        1|             1|        57098.0|   (2,[1],[1.0])|(1,[0],[1.0])|[427.0,42.0,1.0,7...|  0.0|[1.46521504545908...|[0.81232900681986...|       0.0|\n",
      "|        428| 62|     1|107735.93|            1|        0|             1|       58381.77|   (2,[0],[1.0])|    (1,[],[])|[428.0,62.0,1.0,1...|  0.0|[0.21451895137875...|[0.55342501707805...|       0.0|\n",
      "|        430| 31|     5|      0.0|            1|        1|             0|       95655.16|   (2,[0],[1.0])|(1,[0],[1.0])|[430.0,31.0,5.0,0...|  0.0|[2.16029878141624...|[0.89662724492561...|       0.0|\n",
      "|        431| 42|     8|120822.86|            2|        1|             0|      126153.24|   (2,[1],[1.0])|(1,[0],[1.0])|[431.0,42.0,8.0,1...|  0.0|[0.38187382018911...|[0.59432496596360...|       0.0|\n",
      "+-----------+---+------+---------+-------------+---------+--------------+---------------+----------------+-------------+--------------------+-----+--------------------+--------------------+----------+\n",
      "only showing top 20 rows\n",
      "\n"
     ]
    }
   ],
   "source": [
    "# Fit a Logistic Regression model to the training data\n",
    "logisticmodel = LogisticRegression(featuresCol = 'features', labelCol = 'label').fit(train)\n",
    "\n",
    "# Make predictions on the test data using the trained model\n",
    "y_pred = logisticmodel.transform(test)\n",
    "\n",
    "# Show the predictions\n",
    "y_pred.show()"
   ]
  },
  {
   "cell_type": "markdown",
   "metadata": {},
   "source": [
    "# <span style=\"color:#4040a1; font-family: Trebuchet MS; font-size: 50px; font-weight: bold;\">Evaluation</span>"
   ]
  },
  {
   "cell_type": "code",
   "execution_count": 76,
   "metadata": {
    "colab": {
     "base_uri": "https://localhost:8080/"
    },
    "id": "qhe2KhyAWdLo",
    "outputId": "14cc4639-e17b-4c23-c192-ccc77dea7122"
   },
   "outputs": [
    {
     "name": "stdout",
     "output_type": "stream",
     "text": [
      "+------------------------------------------+-----------------------------------------+-----+----------+\n",
      "|rawPrediction                             |probability                              |label|prediction|\n",
      "+------------------------------------------+-----------------------------------------+-----+----------+\n",
      "|[1.851051081710714,-1.851051081710714]    |[0.8642504647963503,0.13574953520364974] |1.0  |0.0       |\n",
      "|[-0.11450411118442849,0.11450411118442849]|[0.4714052080282856,0.5285947919717144]  |1.0  |1.0       |\n",
      "|[0.8974742380474878,-0.8974742380474878]  |[0.7104301813449215,0.28956981865507847] |1.0  |0.0       |\n",
      "|[0.5252646475400642,-0.5252646475400642]  |[0.6283779906478635,0.3716220093521365]  |1.0  |0.0       |\n",
      "|[-0.10402353292296773,0.10402353292296773]|[0.47401754199991003,0.52598245800009]   |1.0  |1.0       |\n",
      "|[2.75549506558964,-2.75549506558964]      |[0.9402229413236978,0.05977705867630223] |1.0  |0.0       |\n",
      "|[3.2921737963710274,-3.2921737963710274]  |[0.9641593478815131,0.03584065211848686] |0.0  |0.0       |\n",
      "|[2.4971156853720653,-2.4971156853720653]  |[0.9239393712766734,0.07606062872332664] |0.0  |0.0       |\n",
      "|[2.4048548775523724,-2.4048548775523724]  |[0.9171967638068723,0.08280323619312768] |0.0  |0.0       |\n",
      "|[2.1055684868477784,-2.1055684868477784]  |[0.8914432292951726,0.10855677070482739] |0.0  |0.0       |\n",
      "|[2.989145677868903,-2.989145677868903]    |[0.9520813489280892,0.047918651071910845]|0.0  |0.0       |\n",
      "|[1.2034753073390956,-1.2034753073390956]  |[0.7691424443276341,0.23085755567236588] |0.0  |0.0       |\n",
      "|[0.8885349779695444,-0.8885349779695444]  |[0.708587750951848,0.291412249048152]    |1.0  |0.0       |\n",
      "|[2.1302478181581073,-2.1302478181581073]  |[0.8938085322412809,0.10619146775871913] |0.0  |0.0       |\n",
      "|[0.17566438767340298,-0.17566438767340298]|[0.5438035141538229,0.4561964858461771]  |1.0  |0.0       |\n",
      "|[1.1282303362490893,-1.1282303362490893]  |[0.7555121660755074,0.24448783392449258] |0.0  |0.0       |\n",
      "|[1.4652150454590878,-1.4652150454590878]  |[0.8123290068198677,0.18767099318013225] |0.0  |0.0       |\n",
      "|[0.21451895137875088,-0.21451895137875088]|[0.553425017078059,0.446574982921941]    |0.0  |0.0       |\n",
      "|[2.1602987814162424,-2.1602987814162424]  |[0.8966272449256112,0.10337275507438881] |0.0  |0.0       |\n",
      "|[0.3818738201891163,-0.3818738201891163]  |[0.5943249659636097,0.40567503403639027] |0.0  |0.0       |\n",
      "+------------------------------------------+-----------------------------------------+-----+----------+\n",
      "only showing top 20 rows\n",
      "\n"
     ]
    }
   ],
   "source": [
    "# Display the raw predictions, actual labels, and predicted labels without truncating values\n",
    "# The symmetric raw predictions are a natural consequence of how the algorithm calculates class probabilities\n",
    "y_pred.select('rawPrediction', 'probability', 'label', 'prediction').show(truncate = False)"
   ]
  },
  {
   "cell_type": "code",
   "execution_count": 53,
   "metadata": {
    "colab": {
     "base_uri": "https://localhost:8080/"
    },
    "id": "igxqY6QCW7AM",
    "outputId": "c4b3cded-c28d-40ae-8879-b043b5359bc5"
   },
   "outputs": [
    {
     "name": "stdout",
     "output_type": "stream",
     "text": [
      "Correct Predictions: 1668\n",
      "Total Predictions: 2032\n",
      "Accuracy: 0.8208661417322834\n"
     ]
    }
   ],
   "source": [
    "# Calculate the accuracy of the model's predictions\n",
    "correct_predictions = y_pred.filter(y_pred.label == y_pred.prediction).count()\n",
    "total_predictions = y_pred.count()\n",
    "accuracy = correct_predictions / total_predictions\n",
    "\n",
    "# Print the accuracy results\n",
    "print(\"Correct Predictions:\", correct_predictions)\n",
    "print(\"Total Predictions:\", total_predictions)\n",
    "print(\"Accuracy:\", accuracy)"
   ]
  },
  {
   "cell_type": "markdown",
   "metadata": {},
   "source": [
    "# <span style=\"color:#4040a1; font-family: Trebuchet MS; font-size: 30px; font-weight: bold;\">Overfitting check</span>"
   ]
  },
  {
   "cell_type": "code",
   "execution_count": 54,
   "metadata": {
    "colab": {
     "base_uri": "https://localhost:8080/"
    },
    "id": "kg27DvmNZt_G",
    "outputId": "258bfbea-0f01-4e95-a2cb-e16732a187f5"
   },
   "outputs": [
    {
     "name": "stdout",
     "output_type": "stream",
     "text": [
      "Correct Predictions (Training): 6448\n",
      "Total Predictions (Training): 7968\n",
      "Accuracy (Training): 0.8092369477911646\n"
     ]
    }
   ],
   "source": [
    "# Make predictions on the training data using the trained model\n",
    "y_pred_train = logisticmodel.transform(train)\n",
    "\n",
    "# Filter the training predictions to count correct predictions\n",
    "correct_predictions_train = y_pred_train.filter(y_pred_train.label == y_pred_train.prediction).count()\n",
    "\n",
    "# Count the total number of training predictions\n",
    "total_predictions_train = y_pred_train.count()\n",
    "\n",
    "# Calculate the accuracy on the training data\n",
    "accuracy_train = correct_predictions_train / total_predictions_train\n",
    "\n",
    "# Print the accuracy results for training data\n",
    "print(\"Correct Predictions (Training):\", correct_predictions_train)\n",
    "print(\"Total Predictions (Training):\", total_predictions_train)\n",
    "print(\"Accuracy (Training):\", accuracy_train)"
   ]
  },
  {
   "cell_type": "code",
   "execution_count": 66,
   "metadata": {
    "id": "aeTNPMZNaFxm"
   },
   "outputs": [],
   "source": [
    "evaluator = BinaryClassificationEvaluator(rawPredictionCol='rawPrediction', metricName='areaUnderROC')"
   ]
  },
  {
   "cell_type": "code",
   "execution_count": 67,
   "metadata": {
    "id": "j77zSbLGbVhk"
   },
   "outputs": [],
   "source": [
    "roc_auc = evaluator.evaluate(y_pred)"
   ]
  },
  {
   "cell_type": "code",
   "execution_count": 68,
   "metadata": {
    "id": "2viYhNufafYE"
   },
   "outputs": [],
   "source": [
    "evaluatorMulti = MulticlassClassificationEvaluator(labelCol='label', predictionCol='prediction')"
   ]
  },
  {
   "cell_type": "code",
   "execution_count": 69,
   "metadata": {
    "id": "__ZMUc1waxGd"
   },
   "outputs": [],
   "source": [
    "acc = evaluatorMulti.evaluate(y_pred, {evaluatorMulti.metricName: 'accuracy'})"
   ]
  },
  {
   "cell_type": "code",
   "execution_count": 70,
   "metadata": {
    "id": "j5F7HTM4bOq3"
   },
   "outputs": [],
   "source": [
    "precision = evaluatorMulti.evaluate(y_pred, {evaluatorMulti.metricName: 'weightedPrecision'})"
   ]
  },
  {
   "cell_type": "code",
   "execution_count": 71,
   "metadata": {
    "id": "pmGR_tItbQOr"
   },
   "outputs": [],
   "source": [
    "recall = evaluatorMulti.evaluate(y_pred, {evaluatorMulti.metricName: 'weightedRecall'})"
   ]
  },
  {
   "cell_type": "code",
   "execution_count": 72,
   "metadata": {
    "id": "cJQnqHPCbRh4"
   },
   "outputs": [],
   "source": [
    "f1 = evaluatorMulti.evaluate(y_pred, {evaluatorMulti.metricName: 'f1'})"
   ]
  },
  {
   "cell_type": "code",
   "execution_count": 73,
   "metadata": {
    "colab": {
     "base_uri": "https://localhost:8080/"
    },
    "id": "KNfHv8lDbbuM",
    "outputId": "dbff5c8b-9223-4290-8ceb-b9ccb85c501d"
   },
   "outputs": [
    {
     "name": "stdout",
     "output_type": "stream",
     "text": [
      "ACCURACY: 0.8208661417322834 \n",
      "\n",
      "PRECISION:  0.803026712640557 \n",
      "\n",
      "RECALL:  0.8208661417322834 \n",
      "\n",
      "F1:  0.7814069496233127 \n",
      "\n",
      "ROC/AUC SCORE:  0.7660563809014725\n"
     ]
    }
   ],
   "source": [
    "print('ACCURACY:', acc, '\\n' )\n",
    "print('PRECISION: ', precision, '\\n' )\n",
    "print('RECALL: ', recall, '\\n' )\n",
    "print('F1: ', f1, '\\n' )\n",
    "print('ROC/AUC SCORE: ', roc_auc)"
   ]
  },
  {
   "cell_type": "markdown",
   "metadata": {},
   "source": [
    "# <span style=\"color:#4040a1; font-family: Trebuchet MS; font-size: 50px; font-weight: bold;\">Modeling (Random Forest)</span>"
   ]
  },
  {
   "cell_type": "code",
   "execution_count": 75,
   "metadata": {
    "colab": {
     "base_uri": "https://localhost:8080/"
    },
    "id": "0qkiZc8uboRX",
    "outputId": "edbd0bb5-3e88-4011-8e1a-bffcb6cb4115"
   },
   "outputs": [
    {
     "name": "stdout",
     "output_type": "stream",
     "text": [
      "+-----------+---+------+---------+-------------+---------+--------------+---------------+----------------+-------------+--------------------+-----+--------------------+--------------------+----------+\n",
      "|CreditScore|Age|Tenure|  Balance|NumOfProducts|HasCrCard|IsActiveMember|EstimatedSalary|onehot_Geography|onehot_Gender|            features|label|       rawPrediction|         probability|prediction|\n",
      "+-----------+---+------+---------+-------------+---------+--------------+---------------+----------------+-------------+--------------------+-----+--------------------+--------------------+----------+\n",
      "|        350| 51|    10|      0.0|            1|        1|             1|      125823.79|   (2,[0],[1.0])|(1,[0],[1.0])|[350.0,51.0,10.0,...|  1.0|[78.0932339833462...|[0.78093233983346...|       0.0|\n",
      "|        358| 52|     8|143542.36|            3|        1|             0|      141959.11|       (2,[],[])|    (1,[],[])|[358.0,52.0,8.0,1...|  1.0|[12.2946181565655...|[0.12294618156565...|       1.0|\n",
      "|        376| 29|     4|115046.74|            4|        1|             0|      119346.88|   (2,[1],[1.0])|    (1,[],[])|[376.0,29.0,4.0,1...|  1.0|[26.1490553291675...|[0.26149055329167...|       1.0|\n",
      "|        376| 46|     6|      0.0|            1|        1|             0|      157333.69|   (2,[0],[1.0])|    (1,[],[])|[376.0,46.0,6.0,0...|  1.0|[49.2391664622724...|[0.49239166462272...|       1.0|\n",
      "|        399| 46|     2|127655.22|            1|        1|             0|      139994.68|   (2,[1],[1.0])|(1,[0],[1.0])|[399.0,46.0,2.0,1...|  1.0|[34.3273178736239...|[0.34327317873623...|       1.0|\n",
      "|        407| 37|     1|      0.0|            1|        1|             1|       49161.12|       (2,[],[])|(1,[0],[1.0])|[407.0,37.0,1.0,0...|  1.0|[90.1148308485449...|[0.90114830848544...|       0.0|\n",
      "|        411| 29|     0| 59697.17|            2|        1|             1|       53483.21|   (2,[0],[1.0])|(1,[0],[1.0])|[411.0,29.0,0.0,5...|  0.0|[90.841774758778,...|[0.90841774758778...|       0.0|\n",
      "|        411| 35|     2|      0.0|            2|        1|             1|       93825.78|   (2,[0],[1.0])|    (1,[],[])|[411.0,35.0,2.0,0...|  0.0|[90.4417085623409...|[0.90441708562340...|       0.0|\n",
      "|        412| 29|     5|      0.0|            2|        0|             0|       12510.53|   (2,[0],[1.0])|(1,[0],[1.0])|[412.0,29.0,5.0,0...|  0.0|[90.3121424943783...|[0.90312142494378...|       0.0|\n",
      "|        413| 34|     9|      0.0|            2|        0|             0|        6534.18|   (2,[0],[1.0])|(1,[0],[1.0])|[413.0,34.0,9.0,0...|  0.0|[90.2758881645297...|[0.90275888164529...|       0.0|\n",
      "|        413| 35|     2|      0.0|            2|        1|             1|       60972.84|       (2,[],[])|(1,[0],[1.0])|[413.0,35.0,2.0,0...|  0.0|[91.1798922455928...|[0.91179892245592...|       0.0|\n",
      "|        414| 60|     3|      0.0|            2|        1|             1|       93844.82|       (2,[],[])|(1,[0],[1.0])|[414.0,60.0,3.0,0...|  0.0|[82.4103617916651...|[0.82410361791665...|       0.0|\n",
      "|        415| 46|     9|134950.19|            3|        0|             0|      178587.36|   (2,[0],[1.0])|(1,[0],[1.0])|[415.0,46.0,9.0,1...|  1.0|[20.7838371935277...|[0.20783837193527...|       1.0|\n",
      "|        418| 28|     7| 98738.92|            1|        1|             0|      122190.22|   (2,[0],[1.0])|(1,[0],[1.0])|[418.0,28.0,7.0,9...|  0.0|[88.5006132042927...|[0.88500613204292...|       0.0|\n",
      "|        420| 34|     1| 135549.9|            1|        0|             0|      149471.13|   (2,[1],[1.0])|    (1,[],[])|[420.0,34.0,1.0,1...|  1.0|[81.2919410175457...|[0.81291941017545...|       0.0|\n",
      "|        422| 41|     6|153238.88|            1|        1|             0|       11663.09|   (2,[0],[1.0])|(1,[0],[1.0])|[422.0,41.0,6.0,1...|  0.0|[86.3191585700426...|[0.86319158570042...|       0.0|\n",
      "|        427| 42|     1| 75681.52|            1|        1|             1|        57098.0|   (2,[1],[1.0])|(1,[0],[1.0])|[427.0,42.0,1.0,7...|  0.0|[78.5926713315402...|[0.78592671331540...|       0.0|\n",
      "|        428| 62|     1|107735.93|            1|        0|             1|       58381.77|   (2,[0],[1.0])|    (1,[],[])|[428.0,62.0,1.0,1...|  0.0|[76.2643290894117...|[0.76264329089411...|       0.0|\n",
      "|        430| 31|     5|      0.0|            1|        1|             0|       95655.16|   (2,[0],[1.0])|(1,[0],[1.0])|[430.0,31.0,5.0,0...|  0.0|[88.3350516078118...|[0.88335051607811...|       0.0|\n",
      "|        431| 42|     8|120822.86|            2|        1|             0|      126153.24|   (2,[1],[1.0])|(1,[0],[1.0])|[431.0,42.0,8.0,1...|  0.0|[80.4095764573679...|[0.80409576457367...|       0.0|\n",
      "+-----------+---+------+---------+-------------+---------+--------------+---------------+----------------+-------------+--------------------+-----+--------------------+--------------------+----------+\n",
      "only showing top 20 rows\n",
      "\n"
     ]
    }
   ],
   "source": [
    "# Building the Random Forest model, training the model and making predictions\n",
    "# Train a RandomForestClassifier model on the training data\n",
    "rf = RandomForestClassifier(labelCol=\"label\", featuresCol=\"features\", numTrees=100).fit(train)\n",
    "\n",
    "# Make predictions on the test data using the trained random forest model\n",
    "y_pred_rf = rf.transform(test)\n",
    "\n",
    "# Display the predictions\n",
    "y_pred_rf.show()"
   ]
  },
  {
   "cell_type": "markdown",
   "metadata": {},
   "source": [
    "# <span style=\"color:#4040a1; font-family: Trebuchet MS; font-size: 50px; font-weight: bold;\">Evaluation</span>"
   ]
  },
  {
   "cell_type": "code",
   "execution_count": 78,
   "metadata": {
    "colab": {
     "base_uri": "https://localhost:8080/"
    },
    "id": "nptgqqJ8dkNT",
    "outputId": "ed993cd0-594e-4bc5-8d10-eb7b81001a8e"
   },
   "outputs": [
    {
     "name": "stdout",
     "output_type": "stream",
     "text": [
      "+----------------------------------------+-----+----------+\n",
      "|probability                             |label|prediction|\n",
      "+----------------------------------------+-----+----------+\n",
      "|[0.7809323398334629,0.21906766016653711]|1.0  |0.0       |\n",
      "|[0.1229461815656557,0.8770538184343443] |1.0  |1.0       |\n",
      "|[0.26149055329167514,0.7385094467083249]|1.0  |1.0       |\n",
      "|[0.49239166462272466,0.5076083353772753]|1.0  |1.0       |\n",
      "|[0.3432731787362391,0.6567268212637609] |1.0  |1.0       |\n",
      "|[0.9011483084854496,0.0988516915145505] |1.0  |0.0       |\n",
      "|[0.90841774758778,0.09158225241221991]  |0.0  |0.0       |\n",
      "|[0.9044170856234095,0.09558291437659054]|0.0  |0.0       |\n",
      "|[0.9031214249437838,0.09687857505621615]|0.0  |0.0       |\n",
      "|[0.9027588816452973,0.09724111835470267]|0.0  |0.0       |\n",
      "|[0.911798922455928,0.088201077544072]   |0.0  |0.0       |\n",
      "|[0.8241036179166515,0.17589638208334854]|0.0  |0.0       |\n",
      "|[0.2078383719352771,0.7921616280647229] |1.0  |1.0       |\n",
      "|[0.8850061320429276,0.1149938679570724] |0.0  |0.0       |\n",
      "|[0.8129194101754574,0.18708058982454262]|1.0  |0.0       |\n",
      "|[0.8631915857004264,0.1368084142995736] |0.0  |0.0       |\n",
      "|[0.7859267133154024,0.21407328668459769]|0.0  |0.0       |\n",
      "|[0.7626432908941178,0.2373567091058823] |0.0  |0.0       |\n",
      "|[0.8833505160781182,0.11664948392188183]|0.0  |0.0       |\n",
      "|[0.8040957645736797,0.19590423542632027]|0.0  |0.0       |\n",
      "+----------------------------------------+-----+----------+\n",
      "only showing top 20 rows\n",
      "\n"
     ]
    }
   ],
   "source": [
    "# Display the probablities, actual labels, and predicted labels without truncating values\n",
    "y_pred_rf.select('probability', 'label', 'prediction').show(truncate = False)"
   ]
  },
  {
   "cell_type": "code",
   "execution_count": 79,
   "metadata": {
    "colab": {
     "base_uri": "https://localhost:8080/"
    },
    "id": "IAa09LrLd_Yy",
    "outputId": "d06eb2c0-5540-4faa-dada-81727703faa9"
   },
   "outputs": [
    {
     "name": "stdout",
     "output_type": "stream",
     "text": [
      "Correct Predictions (Random Forest): 1740\n",
      "Total Predictions (Random Forest): 2032\n",
      "Accuracy (Random Forest): 0.8562992125984252\n"
     ]
    }
   ],
   "source": [
    "# Filter the Random Forest predictions to count correct predictions on the test data\n",
    "correct_predictions_rf = y_pred_rf.filter(y_pred_rf.label == y_pred_rf.prediction).count()\n",
    "\n",
    "# Count the total number of test predictions\n",
    "total_predictions_rf = y_pred_rf.count()\n",
    "\n",
    "# Calculate the accuracy on the test data\n",
    "accuracy_rf = correct_predictions_rf / total_predictions_rf\n",
    "\n",
    "# Print the accuracy results for the Random Forest model on the test data\n",
    "print(\"Correct Predictions (Random Forest):\", correct_predictions_rf)\n",
    "print(\"Total Predictions (Random Forest):\", total_predictions_rf)\n",
    "print(\"Accuracy (Random Forest):\", accuracy_rf)"
   ]
  },
  {
   "cell_type": "markdown",
   "metadata": {},
   "source": [
    "# <span style=\"color:#4040a1; font-family: Trebuchet MS; font-size: 30px; font-weight: bold;\">Overfitting check</span>"
   ]
  },
  {
   "cell_type": "code",
   "execution_count": 80,
   "metadata": {
    "colab": {
     "base_uri": "https://localhost:8080/"
    },
    "id": "dUPegOrVe9gy",
    "outputId": "23bcc1f2-fb41-4379-a48d-5307b74e3d8e"
   },
   "outputs": [
    {
     "name": "stdout",
     "output_type": "stream",
     "text": [
      "Correct Predictions (Random Forest - Training): 6845\n",
      "Total Predictions (Random Forest - Training): 7968\n",
      "Accuracy (Random Forest - Training): 0.8590612449799196\n"
     ]
    }
   ],
   "source": [
    "# Make predictions on the training data using the trained Random Forest model\n",
    "y_pred_train_rf = rf.transform(train)\n",
    "\n",
    "# Filter the training predictions to count correct predictions\n",
    "correct_predictions_train_rf = y_pred_train_rf.filter(y_pred_train_rf.label == y_pred_train_rf.prediction).count()\n",
    "\n",
    "# Count the total number of training predictions\n",
    "total_predictions_train_rf = y_pred_train_rf.count()\n",
    "\n",
    "# Calculate the accuracy on the training data\n",
    "accuracy_train_rf = correct_predictions_train_rf / total_predictions_train_rf\n",
    "\n",
    "# Print the accuracy results for the Random Forest model on the training data\n",
    "print(\"Correct Predictions (Random Forest - Training):\", correct_predictions_train_rf)\n",
    "print(\"Total Predictions (Random Forest - Training):\", total_predictions_train_rf)\n",
    "print(\"Accuracy (Random Forest - Training):\", accuracy_train_rf)"
   ]
  },
  {
   "cell_type": "code",
   "execution_count": 81,
   "metadata": {
    "id": "otYziKTEfKcY"
   },
   "outputs": [],
   "source": [
    "acc_rf = evaluatorMulti.evaluate(y_pred_rf, {evaluatorMulti.metricName: 'accuracy'})"
   ]
  },
  {
   "cell_type": "code",
   "execution_count": 82,
   "metadata": {
    "id": "MUoswHubfPZw"
   },
   "outputs": [],
   "source": [
    "precision_rf = evaluatorMulti.evaluate(y_pred_rf, {evaluatorMulti.metricName: 'weightedPrecision'})"
   ]
  },
  {
   "cell_type": "code",
   "execution_count": 83,
   "metadata": {
    "id": "3EtefWe_fRdQ"
   },
   "outputs": [],
   "source": [
    "recall_rf = evaluatorMulti.evaluate(y_pred_rf, {evaluatorMulti.metricName: 'weightedRecall'})"
   ]
  },
  {
   "cell_type": "code",
   "execution_count": 84,
   "metadata": {
    "id": "9b8ZKmkRfS-D"
   },
   "outputs": [],
   "source": [
    "f1_rf = evaluatorMulti.evaluate(y_pred_rf, {evaluatorMulti.metricName: 'f1'})"
   ]
  },
  {
   "cell_type": "code",
   "execution_count": 85,
   "metadata": {
    "id": "usIjZqTYfUZn"
   },
   "outputs": [],
   "source": [
    "roc_auc_rf = evaluator.evaluate(y_pred_rf)"
   ]
  },
  {
   "cell_type": "code",
   "execution_count": 86,
   "metadata": {
    "colab": {
     "base_uri": "https://localhost:8080/"
    },
    "id": "BRa5eeLvfWaQ",
    "outputId": "12375b11-8e23-48e9-a7e8-f59b81e6a98a"
   },
   "outputs": [
    {
     "name": "stdout",
     "output_type": "stream",
     "text": [
      "ACCURACY:  0.8562992125984252 \n",
      "\n",
      "PRECISION:  0.8544301033711963 \n",
      "\n",
      "RECALL:  0.8562992125984251 \n",
      "\n",
      "F1:  0.8331311941954137 \n",
      "\n",
      "ROC/AUC SCORE:  0.8360142845475964\n"
     ]
    }
   ],
   "source": [
    "print('ACCURACY: ', acc_rf, '\\n' )\n",
    "print('PRECISION: ', precision_rf, '\\n' )\n",
    "print('RECALL: ', recall_rf, '\\n' )\n",
    "print('F1: ', f1_rf, '\\n' )\n",
    "print('ROC/AUC SCORE: ', roc_auc_rf)"
   ]
  },
  {
   "cell_type": "markdown",
   "metadata": {},
   "source": [
    "# <span style=\"color:#4040a1; font-family: Trebuchet MS; font-size: 50px; font-weight: bold;\">Logistic Regression vs Random Forest</span>"
   ]
  },
  {
   "cell_type": "code",
   "execution_count": 87,
   "metadata": {
    "colab": {
     "base_uri": "https://localhost:8080/"
    },
    "id": "Q1Gl07BZfitY",
    "outputId": "89ab3b8e-4a7c-4775-bac7-8b5e4917d358"
   },
   "outputs": [
    {
     "name": "stdout",
     "output_type": "stream",
     "text": [
      "+---------------------+--------------------+--------------------+--------------------+--------------------+--------------------+\n",
      "|        Model        |      Accuracy      |     Precision      |       Recall       |      F1 Score      |      ROC AUC       |\n",
      "+---------------------+--------------------+--------------------+--------------------+--------------------+--------------------+\n",
      "| Logistic Regression | 0.8208661417322834 | 0.803026712640557  | 0.8208661417322834 | 0.7814069496233127 | 0.7660563809014725 |\n",
      "|    Random Forest    | 0.8562992125984252 | 0.8544301033711963 | 0.8562992125984251 | 0.8331311941954137 | 0.8360142845475964 |\n",
      "+---------------------+--------------------+--------------------+--------------------+--------------------+--------------------+\n"
     ]
    }
   ],
   "source": [
    "from tabulate import tabulate\n",
    "\n",
    "# Define the metrics for both models\n",
    "models_metrics = [\n",
    "    ['Model', 'Accuracy', 'Precision', 'Recall', 'F1 Score', 'ROC AUC'],\n",
    "    ['Logistic Regression', acc, precision, recall, f1, roc_auc],\n",
    "    ['Random Forest', acc_rf, precision_rf, recall_rf, f1_rf, roc_auc_rf]\n",
    "]\n",
    "\n",
    "# Print the comparison table\n",
    "print(tabulate(models_metrics, headers='firstrow', tablefmt='pretty'))"
   ]
  }
 ],
 "metadata": {
  "colab": {
   "provenance": []
  },
  "kernelspec": {
   "display_name": "Python 3 (ipykernel)",
   "language": "python",
   "name": "python3"
  },
  "language_info": {
   "codemirror_mode": {
    "name": "ipython",
    "version": 3
   },
   "file_extension": ".py",
   "mimetype": "text/x-python",
   "name": "python",
   "nbconvert_exporter": "python",
   "pygments_lexer": "ipython3",
   "version": "3.10.9"
  }
 },
 "nbformat": 4,
 "nbformat_minor": 1
}
